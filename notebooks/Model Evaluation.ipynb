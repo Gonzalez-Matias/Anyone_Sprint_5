{
 "cells": [
  {
   "cell_type": "markdown",
   "id": "d11b9c24",
   "metadata": {},
   "source": [
    "# Vehicle Classification\n",
    "\n",
    "## Evaluate your model\n"
   ]
  },
  {
   "cell_type": "code",
   "execution_count": 4,
   "id": "1205a6a3",
   "metadata": {},
   "outputs": [
    {
     "name": "stderr",
     "output_type": "stream",
     "text": [
      "2022-06-24 09:46:25.227466: W tensorflow/stream_executor/platform/default/dso_loader.cc:64] Could not load dynamic library 'libcudart.so.11.0'; dlerror: libcudart.so.11.0: cannot open shared object file: No such file or directory\n",
      "2022-06-24 09:46:25.227584: I tensorflow/stream_executor/cuda/cudart_stub.cc:29] Ignore above cudart dlerror if you do not have a GPU set up on your machine.\n"
     ]
    }
   ],
   "source": [
    "import os\n",
    "\n",
    "from sklearn.metrics import accuracy_score, classification_report\n",
    "\n",
    "from utils import  utils\n",
    "from models import resnet_50"
   ]
  },
  {
   "cell_type": "markdown",
   "id": "491a75b4",
   "metadata": {},
   "source": [
    "## Experiment settings\n",
    "\n",
    "Set here the two variables in the following way:\n",
    "\n",
    "- **CONFIG_YML:** assign the path to the config.yml file used for the experiment you want to evaluate\n",
    "- **WEIGHTS:** assign the path to the model weights (.h5 file) you want to evaluate\n"
   ]
  },
  {
   "cell_type": "code",
   "execution_count": 7,
   "id": "7939dadf",
   "metadata": {},
   "outputs": [],
   "source": [
    "# Modify this\n",
    "CONFIG_YML = \"/home/matias/Models/config_exp_last.yml\"\n",
    "WEIGHTS = \"/home/matias/Models/model.18-1.0534.h5\""
   ]
  },
  {
   "cell_type": "code",
   "execution_count": 8,
   "id": "afc06ab4",
   "metadata": {
    "scrolled": true
   },
   "outputs": [
    {
     "data": {
      "text/plain": [
       "{'seed': 123,\n",
       " 'data': {'directory': '/home/matias/Anyone/sprint5-project/data/car_ims_v2/train',\n",
       "  'labels': 'inferred',\n",
       "  'label_mode': 'categorical',\n",
       "  'validation_split': 0.2,\n",
       "  'image_size': [224, 224],\n",
       "  'batch_size': 32},\n",
       " 'model': {'weights': 'imagenet',\n",
       "  'input_shape': [224, 224, 3],\n",
       "  'classes': 196,\n",
       "  'dropout_rate': 0.75,\n",
       "  'l2_': 0.0001,\n",
       "  'train_all': True,\n",
       "  'data_aug_layer': {'random_flip': {'mode': 'horizontal_and_vertical'},\n",
       "   'random_rotation': {'factor': 0.1},\n",
       "   'random_zoom': {'height_factor': 0.2, 'width_factor': 0.2}}},\n",
       " 'compile': {'optimizer': {'adam': {'learning_rate': 5e-05, 'beta_2': 0.999}},\n",
       "  'loss': 'categorical_crossentropy',\n",
       "  'metrics': ['accuracy']},\n",
       " 'fit': {'epochs': 100,\n",
       "  'callbacks': {'model_checkpoint': {'filepath': '/home/app/src/experiments/exp_023/model.{epoch:02d}-{val_loss:.4f}.h5',\n",
       "    'save_best_only': True},\n",
       "   'tensor_board': {'log_dir': '/home/app/src/experiments/exp_023/logs'}}}}"
      ]
     },
     "execution_count": 8,
     "metadata": {},
     "output_type": "execute_result"
    }
   ],
   "source": [
    "# (!) Don't touch this cell, will load the config file specified before\n",
    "config = utils.load_config(CONFIG_YML)\n",
    "config['data']['directory'] = os.path.join(\"/home/matias/Anyone/sprint5-project\",\n",
    "                                           config['data']['directory'].split(\"/\",4)[-1])\n",
    "config"
   ]
  },
  {
   "cell_type": "code",
   "execution_count": 9,
   "id": "435199e0",
   "metadata": {},
   "outputs": [],
   "source": [
    "# (!) Don't touch this cell, will use the config file to infer the class names\n",
    "#     and also to load the corresponding testing dataset.\n",
    "#     If you get an error, you must review your data/code.\n",
    "\n",
    "MODEL_CLASSES = utils.get_class_names(config)\n",
    "\n",
    "if len(MODEL_CLASSES) != config['model']['classes']:\n",
    "    raise ValueError(\n",
    "        \"Number of classes doesn't match between your model \"\n",
    "        \"and your data!\"\n",
    "    )\n",
    "\n",
    "_dirname, _ = os.path.split(config['data']['directory'])\n",
    "TEST_FOLDER = os.path.join(_dirname, 'test')\n",
    "\n",
    "if not os.path.exists(TEST_FOLDER):\n",
    "    raise ValueError(\"'test' folder not found!\")\n",
    "    \n",
    "if len(os.listdir(TEST_FOLDER)) != config['model']['classes']:\n",
    "    raise ValueError(\n",
    "        \"Number of classes doesn't match between your model \"\n",
    "        \"and your testing dataset!\"\n",
    "    )\n",
    "    \n",
    "if set(os.listdir(TEST_FOLDER)) != set(MODEL_CLASSES):\n",
    "    raise ValueError(\n",
    "        \"The name of the subfolders inside your test set \"\n",
    "        \"doesn't match with the model classes!\"\n",
    "    )"
   ]
  },
  {
   "cell_type": "markdown",
   "id": "85511441",
   "metadata": {},
   "source": [
    "## Load your model\n",
    "\n",
    "Use `resnet_50.create_model()` and remember to properly setup the model weights!\n",
    "\n",
    "Assign the model to the variable `cnn_model`.\n"
   ]
  },
  {
   "cell_type": "code",
   "execution_count": 10,
   "id": "12f91894",
   "metadata": {
    "scrolled": true
   },
   "outputs": [
    {
     "name": "stderr",
     "output_type": "stream",
     "text": [
      "2022-06-24 10:32:33.493448: W tensorflow/stream_executor/platform/default/dso_loader.cc:64] Could not load dynamic library 'libcuda.so.1'; dlerror: libcuda.so.1: cannot open shared object file: No such file or directory\n",
      "2022-06-24 10:32:33.493525: W tensorflow/stream_executor/cuda/cuda_driver.cc:269] failed call to cuInit: UNKNOWN ERROR (303)\n",
      "2022-06-24 10:32:33.493576: I tensorflow/stream_executor/cuda/cuda_diagnostics.cc:156] kernel driver does not appear to be running on this host (pavilionpc): /proc/driver/nvidia/version does not exist\n",
      "2022-06-24 10:32:33.868551: I tensorflow/core/platform/cpu_feature_guard.cc:151] This TensorFlow binary is optimized with oneAPI Deep Neural Network Library (oneDNN) to use the following CPU instructions in performance-critical operations:  AVX2 FMA\n",
      "To enable them in other operations, rebuild TensorFlow with the appropriate compiler flags.\n"
     ]
    },
    {
     "name": "stdout",
     "output_type": "stream",
     "text": [
      "Model: \"model\"\n",
      "_________________________________________________________________\n",
      " Layer (type)                Output Shape              Param #   \n",
      "=================================================================\n",
      " input_1 (InputLayer)        [(None, 224, 224, 3)]     0         \n",
      "                                                                 \n",
      " sequential (Sequential)     (None, 224, 224, 3)       0         \n",
      "                                                                 \n",
      " tf.__operators__.getitem (S  (None, 224, 224, 3)      0         \n",
      " licingOpLambda)                                                 \n",
      "                                                                 \n",
      " tf.nn.bias_add (TFOpLambda)  (None, 224, 224, 3)      0         \n",
      "                                                                 \n",
      " resnet50 (Functional)       (None, 2048)              23587712  \n",
      "                                                                 \n",
      " dropout (Dropout)           (None, 2048)              0         \n",
      "                                                                 \n",
      " dense (Dense)               (None, 196)               401604    \n",
      "                                                                 \n",
      "=================================================================\n",
      "Total params: 23,989,316\n",
      "Trainable params: 23,936,196\n",
      "Non-trainable params: 53,120\n",
      "_________________________________________________________________\n",
      "None\n"
     ]
    }
   ],
   "source": [
    "# Complete this\n",
    "# TODO\n",
    "cnn_model = resnet_50.create_model(WEIGHTS)\n",
    "\n",
    "# It should print your model correctly\n",
    "print(cnn_model.summary())"
   ]
  },
  {
   "cell_type": "markdown",
   "id": "b6a33cbb",
   "metadata": {},
   "source": [
    "## Get predictions from testing dataset"
   ]
  },
  {
   "cell_type": "code",
   "execution_count": 11,
   "id": "cce894dd",
   "metadata": {},
   "outputs": [
    {
     "name": "stderr",
     "output_type": "stream",
     "text": [
      "2022-06-24 10:48:30.995208: W tensorflow/core/framework/cpu_allocator_impl.cc:82] Allocation of 271934520 exceeds 10% of free system memory.\n"
     ]
    }
   ],
   "source": [
    "# (!) Don't touch this cell, will use the loaded model and\n",
    "#     the function utils.predict_from_folder() to get \n",
    "#     model predictions and the corresponding true labels\n",
    "#     so we can measure the accuracy\n",
    "\n",
    "predictions, labels = utils.predict_from_folder(\n",
    "    folder=TEST_FOLDER, \n",
    "    model=cnn_model, \n",
    "    input_size=config[\"data\"][\"image_size\"], \n",
    "    class_names=MODEL_CLASSES,\n",
    ")\n",
    "\n",
    "if len(predictions) != len(labels):\n",
    "    raise ValueError(\n",
    "        \"The lenght of predictions and labels lists doesn't match!\"\n",
    "    )\n",
    "\n",
    "if not isinstance(predictions[0], str):\n",
    "    raise ValueError(\n",
    "        \"Model predictions should be represented as string. E.g: 'Acura RL Sedan 2012'\"\n",
    "    )\n",
    "\n",
    "if not isinstance(labels[0], str):\n",
    "    raise ValueError(\n",
    "        \"Ground true labels should be represented as string. E.g: 'Acura RL Sedan 2012'\"\n",
    "    )\n"
   ]
  },
  {
   "cell_type": "code",
   "execution_count": 12,
   "id": "52b06098",
   "metadata": {
    "scrolled": true
   },
   "outputs": [
    {
     "name": "stdout",
     "output_type": "stream",
     "text": [
      "                                                        precision    recall  f1-score   support\n",
      "\n",
      "                            AM General Hummer SUV 2000       0.69      0.66      0.67        44\n",
      "                             Acura Integra Type R 2001       0.57      0.73      0.64        44\n",
      "                                   Acura RL Sedan 2012       1.00      0.03      0.06        32\n",
      "                                   Acura TL Sedan 2012       0.51      0.79      0.62        43\n",
      "                                  Acura TL Type-S 2008       0.32      0.21      0.26        42\n",
      "                                  Acura TSX Sedan 2012       0.49      0.47      0.48        40\n",
      "                              Acura ZDX Hatchback 2012       0.28      0.49      0.36        39\n",
      "              Aston Martin V8 Vantage Convertible 2012       0.40      0.31      0.35        45\n",
      "                    Aston Martin V8 Vantage Coupe 2012       0.43      0.07      0.12        41\n",
      "                  Aston Martin Virage Convertible 2012       0.50      0.55      0.52        33\n",
      "                        Aston Martin Virage Coupe 2012       0.51      0.76      0.61        38\n",
      "                                   Audi 100 Sedan 1994       0.57      0.20      0.30        40\n",
      "                                   Audi 100 Wagon 1994       0.08      0.17      0.11        42\n",
      "                                    Audi A5 Coupe 2012       0.44      0.41      0.43        41\n",
      "                                    Audi R8 Coupe 2012       0.33      0.09      0.15        43\n",
      "                            Audi RS 4 Convertible 2008       0.48      0.39      0.43        36\n",
      "                                    Audi S4 Sedan 2007       0.46      0.38      0.41        45\n",
      "                                    Audi S4 Sedan 2012       0.43      0.15      0.23        39\n",
      "                              Audi S5 Convertible 2012       1.00      0.10      0.17        42\n",
      "                                    Audi S5 Coupe 2012       0.43      0.14      0.21        42\n",
      "                                    Audi S6 Sedan 2011       0.65      0.28      0.39        46\n",
      "                                Audi TT Hatchback 2011       0.53      0.23      0.32        40\n",
      "                                 Audi TT RS Coupe 2012       0.60      0.31      0.41        39\n",
      "                                   Audi TTS Coupe 2012       0.14      0.33      0.19        42\n",
      "                                    Audi V8 Sedan 1994       0.42      0.26      0.32        43\n",
      "                         BMW 1 Series Convertible 2012       0.50      0.09      0.15        35\n",
      "                               BMW 1 Series Coupe 2012       0.47      0.41      0.44        41\n",
      "                               BMW 3 Series Sedan 2012       0.50      0.40      0.45        42\n",
      "                               BMW 3 Series Wagon 2012       0.45      0.12      0.19        41\n",
      "                         BMW 6 Series Convertible 2007       0.30      0.07      0.11        44\n",
      "                         BMW ActiveHybrid 5 Sedan 2012       0.56      0.56      0.56        34\n",
      "                                     BMW M3 Coupe 2012       0.21      0.07      0.10        44\n",
      "                                     BMW M5 Sedan 2010       0.29      0.20      0.23        41\n",
      "                               BMW M6 Convertible 2010       0.30      0.46      0.37        41\n",
      "                                       BMW X3 SUV 2012       0.82      0.37      0.51        38\n",
      "                                       BMW X5 SUV 2007       0.83      0.37      0.51        41\n",
      "                                       BMW X6 SUV 2012       0.64      0.43      0.51        42\n",
      "                               BMW Z4 Convertible 2012       0.30      0.23      0.26        40\n",
      "                             Bentley Arnage Sedan 2009       0.75      0.31      0.44        39\n",
      "            Bentley Continental Flying Spur Sedan 2007       0.31      0.20      0.25        44\n",
      "                     Bentley Continental GT Coupe 2007       0.21      0.48      0.29        46\n",
      "                     Bentley Continental GT Coupe 2012       0.42      0.41      0.42        34\n",
      "Bentley Continental Supersports Conv. Convertible 2012       0.61      0.39      0.47        36\n",
      "                           Bentley Mulsanne Sedan 2011       0.59      0.29      0.38        35\n",
      "                  Bugatti Veyron 16.4 Convertible 2009       0.83      0.31      0.45        32\n",
      "                        Bugatti Veyron 16.4 Coupe 2009       0.75      0.56      0.64        43\n",
      "                                Buick Enclave SUV 2012       0.32      0.71      0.44        42\n",
      "                                Buick Rainier SUV 2007       0.52      0.31      0.39        42\n",
      "                                   Buick Regal GS 2012       0.38      0.43      0.41        35\n",
      "                               Buick Verano Sedan 2012       0.50      0.38      0.43        37\n",
      "                             Cadillac CTS-V Sedan 2012       0.81      0.49      0.61        43\n",
      "                   Cadillac Escalade EXT Crew Cab 2007       0.75      0.34      0.47        44\n",
      "                                 Cadillac SRX SUV 2012       0.67      0.59      0.62        41\n",
      "                     Chevrolet Avalanche Crew Cab 2012       0.57      0.58      0.57        45\n",
      "                     Chevrolet Camaro Convertible 2012       0.48      0.30      0.37        44\n",
      "                              Chevrolet Cobalt SS 2010       0.22      0.49      0.30        41\n",
      "                   Chevrolet Corvette Convertible 2012       0.47      0.18      0.26        39\n",
      "       Chevrolet Corvette Ron Fellows Edition Z06 2007       0.67      0.43      0.52        37\n",
      "                           Chevrolet Corvette ZR1 2012       0.58      0.24      0.34        46\n",
      "                      Chevrolet Express Cargo Van 2007       0.12      0.45      0.18        29\n",
      "                            Chevrolet Express Van 2007       0.41      0.26      0.32        35\n",
      "                                 Chevrolet HHR SS 2010       0.91      0.56      0.69        36\n",
      "                           Chevrolet Impala Sedan 2007       0.37      0.40      0.38        43\n",
      "                    Chevrolet Malibu Hybrid Sedan 2010       0.33      0.32      0.32        38\n",
      "                           Chevrolet Malibu Sedan 2007       0.73      0.36      0.48        44\n",
      "                      Chevrolet Monte Carlo Coupe 2007       0.65      0.29      0.40        45\n",
      "    Chevrolet Silverado 1500 Classic Extended Cab 2007       0.79      0.36      0.49        42\n",
      "            Chevrolet Silverado 1500 Extended Cab 2012       0.33      0.05      0.08        43\n",
      "         Chevrolet Silverado 1500 Hybrid Crew Cab 2012       0.56      0.47      0.51        40\n",
      "             Chevrolet Silverado 1500 Regular Cab 2012       0.38      0.48      0.42        44\n",
      "           Chevrolet Silverado 2500HD Regular Cab 2012       0.60      0.08      0.14        38\n",
      "                            Chevrolet Sonic Sedan 2012       0.25      0.57      0.34        44\n",
      "                       Chevrolet Tahoe Hybrid SUV 2012       0.75      0.16      0.27        37\n",
      "                         Chevrolet TrailBlazer SS 2009       0.66      0.57      0.61        40\n",
      "                           Chevrolet Traverse SUV 2012       0.36      0.43      0.39        44\n",
      "                               Chrysler 300 SRT-8 2010       0.41      0.25      0.31        48\n",
      "                               Chrysler Aspen SUV 2009       0.94      0.35      0.51        43\n",
      "                   Chrysler Crossfire Convertible 2008       0.60      0.56      0.58        43\n",
      "                  Chrysler PT Cruiser Convertible 2008       0.78      0.40      0.53        45\n",
      "                     Chrysler Sebring Convertible 2010       0.73      0.28      0.40        40\n",
      "                Chrysler Town and Country Minivan 2012       0.55      0.32      0.41        37\n",
      "                              Daewoo Nubira Wagon 2002       0.71      0.27      0.39        45\n",
      "                              Dodge Caliber Wagon 2007       0.48      0.50      0.49        42\n",
      "                              Dodge Caliber Wagon 2012       0.21      0.25      0.23        40\n",
      "                            Dodge Caravan Minivan 1997       0.94      0.72      0.82        43\n",
      "                            Dodge Challenger SRT8 2011       0.70      0.36      0.47        39\n",
      "                              Dodge Charger SRT-8 2009       0.26      0.57      0.36        42\n",
      "                              Dodge Charger Sedan 2012       0.71      0.24      0.36        41\n",
      "                            Dodge Dakota Club Cab 2007       0.71      0.13      0.22        38\n",
      "                            Dodge Dakota Crew Cab 2010       0.57      0.32      0.41        41\n",
      "                                Dodge Durango SUV 2007       0.90      0.42      0.58        45\n",
      "                                Dodge Durango SUV 2012       0.76      0.58      0.66        43\n",
      "                                Dodge Journey SUV 2012       0.93      0.61      0.74        44\n",
      "                               Dodge Magnum Wagon 2008       0.44      0.20      0.28        40\n",
      "                   Dodge Ram Pickup 3500 Crew Cab 2010       1.00      0.45      0.62        42\n",
      "                   Dodge Ram Pickup 3500 Quad Cab 2009       1.00      0.14      0.24        44\n",
      "                         Dodge Sprinter Cargo Van 2009       0.12      0.51      0.19        39\n",
      "                            Eagle Talon Hatchback 1998       0.52      0.37      0.43        46\n",
      "                                  FIAT 500 Abarth 2012       0.85      0.85      0.85        27\n",
      "                             FIAT 500 Convertible 2012       0.88      0.70      0.78        33\n",
      "                   Ferrari 458 Italia Convertible 2012       0.48      0.31      0.38        39\n",
      "                         Ferrari 458 Italia Coupe 2012       0.40      0.43      0.41        42\n",
      "                   Ferrari California Convertible 2012       0.60      0.74      0.67        39\n",
      "                                 Ferrari FF Coupe 2012       0.69      0.43      0.53        42\n",
      "                               Fisker Karma Sedan 2012       0.71      0.47      0.56        43\n",
      "                          Ford E-Series Wagon Van 2012       0.80      0.65      0.72        37\n",
      "                                    Ford Edge SUV 2012       0.55      0.51      0.53        43\n",
      "                           Ford Expedition EL SUV 2009       0.87      0.45      0.60        44\n",
      "                           Ford F-150 Regular Cab 2007       0.35      0.53      0.42        45\n",
      "                           Ford F-150 Regular Cab 2012       0.53      0.86      0.65        42\n",
      "                   Ford F-450 Super Duty Crew Cab 2012       1.00      0.51      0.68        41\n",
      "                                Ford Fiesta Sedan 2012       0.68      0.62      0.65        42\n",
      "                                 Ford Focus Sedan 2007       0.46      0.53      0.49        45\n",
      "                            Ford Freestar Minivan 2007       1.00      0.50      0.67        44\n",
      "                                    Ford GT Coupe 2006       0.31      0.40      0.35        45\n",
      "                         Ford Mustang Convertible 2007       0.18      0.23      0.20        44\n",
      "                             Ford Ranger SuperCab 2011       0.89      0.40      0.56        42\n",
      "                                   GMC Acadia SUV 2012       0.44      0.61      0.51        44\n",
      "                          GMC Canyon Extended Cab 2012       0.42      0.42      0.42        40\n",
      "                                   GMC Savana Van 2012       0.20      0.66      0.31        68\n",
      "                                  GMC Terrain SUV 2012       0.71      0.61      0.66        41\n",
      "                             GMC Yukon Hybrid SUV 2012       0.62      0.50      0.55        42\n",
      "                            Geo Metro Convertible 1993       0.53      0.64      0.58        44\n",
      "                           HUMMER H2 SUT Crew Cab 2009       0.88      0.35      0.50        43\n",
      "                              HUMMER H3T Crew Cab 2010       0.52      0.33      0.41        39\n",
      "                               Honda Accord Coupe 2012       0.45      0.26      0.33        39\n",
      "                               Honda Accord Sedan 2012       0.50      0.26      0.34        38\n",
      "                            Honda Odyssey Minivan 2007       0.41      0.27      0.32        41\n",
      "                            Honda Odyssey Minivan 2012       0.42      0.36      0.38        42\n",
      "                             Hyundai Accent Sedan 2012       0.25      0.25      0.25        24\n",
      "                              Hyundai Azera Sedan 2012       0.68      0.40      0.51        42\n",
      "                            Hyundai Elantra Sedan 2007       0.73      0.38      0.50        42\n",
      "                Hyundai Elantra Touring Hatchback 2012       0.35      0.62      0.45        42\n",
      "                            Hyundai Genesis Sedan 2012       0.44      0.42      0.43        43\n",
      "                             Hyundai Santa Fe SUV 2012       0.95      0.48      0.63        42\n",
      "                      Hyundai Sonata Hybrid Sedan 2012       0.44      0.64      0.52        33\n",
      "                             Hyundai Sonata Sedan 2012       0.89      0.21      0.33        39\n",
      "                               Hyundai Tucson SUV 2012       0.41      0.42      0.41        43\n",
      "                       Hyundai Veloster Hatchback 2012       0.71      0.24      0.36        41\n",
      "                             Hyundai Veracruz SUV 2012       0.24      0.64      0.35        42\n",
      "                             Infiniti G Coupe IPL 2012       1.00      0.21      0.34        34\n",
      "                                Infiniti QX56 SUV 2011       1.00      0.25      0.40        32\n",
      "                               Isuzu Ascender SUV 2008       0.88      0.53      0.66        40\n",
      "                                    Jaguar XK XKR 2012       0.31      0.54      0.40        46\n",
      "                                 Jeep Compass SUV 2012       0.74      0.33      0.46        42\n",
      "                          Jeep Grand Cherokee SUV 2012       0.58      0.31      0.41        45\n",
      "                                 Jeep Liberty SUV 2012       0.68      0.43      0.53        44\n",
      "                                 Jeep Patriot SUV 2012       0.60      0.80      0.69        44\n",
      "                                Jeep Wrangler SUV 2012       0.46      0.88      0.61        43\n",
      "                      Lamborghini Aventador Coupe 2012       0.53      0.37      0.44        43\n",
      "                         Lamborghini Diablo Coupe 2001       0.45      0.68      0.54        44\n",
      "       Lamborghini Gallardo LP 570-4 Superleggera 2012       0.90      0.74      0.81        35\n",
      "                       Lamborghini Reventon Coupe 2008       0.35      0.78      0.49        36\n",
      "                               Land Rover LR2 SUV 2012       0.58      0.62      0.60        42\n",
      "                       Land Rover Range Rover SUV 2012       0.75      0.64      0.69        42\n",
      "                           Lincoln Town Car Sedan 2011       0.71      0.44      0.54        39\n",
      "                 MINI Cooper Roadster Convertible 2012       0.83      0.56      0.67        36\n",
      "                    Maybach Landaulet Convertible 2012       0.32      0.62      0.42        29\n",
      "                                Mazda Tribute SUV 2011       0.53      0.50      0.51        36\n",
      "                            McLaren MP4-12C Coupe 2012       0.61      0.68      0.65        44\n",
      "              Mercedes-Benz 300-Class Convertible 1993       0.33      0.48      0.39        48\n",
      "                      Mercedes-Benz C-Class Sedan 2012       0.85      0.24      0.38        45\n",
      "                      Mercedes-Benz E-Class Sedan 2012       0.42      0.35      0.38        43\n",
      "                      Mercedes-Benz S-Class Sedan 2012       0.88      0.32      0.47        44\n",
      "                     Mercedes-Benz SL-Class Coupe 2009       0.22      0.33      0.27        36\n",
      "                       Mercedes-Benz Sprinter Van 2012       0.24      0.90      0.38        41\n",
      "                          Mitsubishi Lancer Sedan 2012       0.64      0.53      0.58        47\n",
      "                               Nissan 240SX Coupe 1998       0.74      0.37      0.49        46\n",
      "                            Nissan Juke Hatchback 2012       0.18      0.80      0.29        44\n",
      "                            Nissan Leaf Hatchback 2012       0.73      0.57      0.64        42\n",
      "                          Nissan NV Passenger Van 2012       0.49      0.50      0.49        38\n",
      "                              Plymouth Neon Coupe 1999       0.82      0.70      0.76        44\n",
      "                           Porsche Panamera Sedan 2012       0.33      0.42      0.37        43\n",
      "                        Ram C-V Cargo Van Minivan 2012       0.45      0.37      0.41        41\n",
      "                          Rolls-Royce Ghost Sedan 2012       0.49      0.47      0.48        38\n",
      "   Rolls-Royce Phantom Drophead Coupe Convertible 2012       0.24      0.17      0.20        30\n",
      "                        Rolls-Royce Phantom Sedan 2012       0.82      0.32      0.46        44\n",
      "                               Scion xD Hatchback 2012       0.44      0.51      0.47        41\n",
      "                            Spyker C8 Convertible 2009       0.42      0.51      0.46        45\n",
      "                                  Spyker C8 Coupe 2009       0.65      0.36      0.46        42\n",
      "                               Suzuki Aerio Sedan 2007       0.35      0.45      0.39        38\n",
      "                             Suzuki Kizashi Sedan 2012       0.42      0.59      0.49        46\n",
      "                             Suzuki SX4 Hatchback 2012       0.54      0.33      0.41        42\n",
      "                                 Suzuki SX4 Sedan 2012       0.46      0.33      0.38        40\n",
      "                              Tesla Model S Sedan 2012       0.16      0.74      0.27        38\n",
      "                               Toyota 4Runner SUV 2012       0.94      0.42      0.59        40\n",
      "                               Toyota Camry Sedan 2012       0.32      0.56      0.41        43\n",
      "                             Toyota Corolla Sedan 2012       0.56      0.23      0.33        43\n",
      "                               Toyota Sequoia SUV 2012       0.88      0.55      0.68        38\n",
      "                      Volkswagen Beetle Hatchback 2012       0.18      0.71      0.28        42\n",
      "                        Volkswagen Golf Hatchback 1991       0.22      0.83      0.35        46\n",
      "                        Volkswagen Golf Hatchback 2012       0.34      0.51      0.41        43\n",
      "                                  Volvo 240 Sedan 1993       0.59      0.67      0.62        45\n",
      "                              Volvo C30 Hatchback 2012       0.60      0.63      0.62        41\n",
      "                                   Volvo XC90 SUV 2007       0.51      0.44      0.48        43\n",
      "                         smart fortwo Convertible 2012       0.15      0.57      0.24        40\n",
      "\n",
      "                                              accuracy                           0.43      8041\n",
      "                                             macro avg       0.55      0.43      0.44      8041\n",
      "                                          weighted avg       0.55      0.43      0.44      8041\n",
      "\n"
     ]
    }
   ],
   "source": [
    "# (!) Don't touch this cell\n",
    "\n",
    "print(classification_report(y_true=labels, y_pred=predictions))\n"
   ]
  },
  {
   "cell_type": "code",
   "execution_count": 13,
   "id": "e8342c09",
   "metadata": {},
   "outputs": [
    {
     "name": "stdout",
     "output_type": "stream",
     "text": [
      "Your model accuracy is 0.4308!\n"
     ]
    }
   ],
   "source": [
    "# (!) Don't touch this cell\n",
    "\n",
    "acc = accuracy_score(y_true=labels, y_pred=predictions)\n",
    "\n",
    "print(f\"Your model accuracy is {acc:.4f}!\")\n",
    "\n",
    "if acc < .3:\n",
    "    raise ValueError(\"Your model accuracy is too low :(\\nYou can do it better! :)\")\n"
   ]
  },
  {
   "cell_type": "markdown",
   "id": "115bf7b2",
   "metadata": {},
   "source": [
    "### Experiments\n",
    "After I made severals experiments I got the next conclutions:\n",
    "* SGD as optimizer was like more sensible to changes and performed worst in this project\n",
    "* The model tend to overfit so I chose the weigth from the epoch 18\n",
    "* If you keep the model training for more epochs the accuracy on the test data improves but at the cost that now we have huge gap with the training data accuracy\n",
    "* l2 as regularization worked better than dropuot but to much undermine the performance of the model (1e-2 <= l2 <= 1e-4)  \n",
    "* With freezed parameters the models couldn't surpass the 25-30% of accuracy\n",
    "* With cropped images there was a gain of 5-10% of accuracy (with frezzed conv. layers)\n",
    "\n",
    "#### Results  \n",
    "Main Parameters:  \n",
    "  \n",
    "\n",
    "l2 = 1e^{-4}  \n",
    "dropout rate = 0.75  \n",
    "train all = True  \n",
    "optimizer = adam | learning rate = 5e-05, beta 2 = 0.999 |  \n",
    "images dataset = Cropped images\n",
    "   \n",
    "Epoch 18:  \n",
    "\n",
    "\n",
    "Accuracy train:0.7638  \n",
    "Accuracy validation:0.7082  \n",
    "Accuracy test:0.4308  \n",
    "Loss train:0.8681  \n",
    "Loss validation:1.053  \n"
   ]
  },
  {
   "cell_type": "code",
   "execution_count": null,
   "id": "b02e0e17",
   "metadata": {},
   "outputs": [],
   "source": []
  }
 ],
 "metadata": {
  "kernelspec": {
   "display_name": "Python 3.10.4 64-bit",
   "language": "python",
   "name": "python3"
  },
  "language_info": {
   "codemirror_mode": {
    "name": "ipython",
    "version": 3
   },
   "file_extension": ".py",
   "mimetype": "text/x-python",
   "name": "python",
   "nbconvert_exporter": "python",
   "pygments_lexer": "ipython3",
   "version": "3.10.4"
  },
  "vscode": {
   "interpreter": {
    "hash": "31f2aee4e71d21fbe5cf8b01ff0e069b9275f58929596ceb00d14d90e3e16cd6"
   }
  }
 },
 "nbformat": 4,
 "nbformat_minor": 5
}
